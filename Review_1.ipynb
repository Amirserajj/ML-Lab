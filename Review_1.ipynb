{
  "nbformat": 4,
  "nbformat_minor": 0,
  "metadata": {
    "colab": {
      "name": "Review-1",
      "provenance": [],
      "collapsed_sections": [],
      "authorship_tag": "ABX9TyPS8EG3UskQ6OZaslERH5Dc",
      "include_colab_link": true
    },
    "kernelspec": {
      "name": "python3",
      "display_name": "Python 3"
    },
    "language_info": {
      "name": "python"
    }
  },
  "cells": [
    {
      "cell_type": "markdown",
      "metadata": {
        "id": "view-in-github",
        "colab_type": "text"
      },
      "source": [
        "<a href=\"https://colab.research.google.com/github/Amirserajj/ML-Lab/blob/main/Review_1.ipynb\" target=\"_parent\"><img src=\"https://colab.research.google.com/assets/colab-badge.svg\" alt=\"Open In Colab\"/></a>"
      ]
    },
    {
      "cell_type": "code",
      "execution_count": null,
      "metadata": {
        "colab": {
          "base_uri": "https://localhost:8080/"
        },
        "id": "usoGOOAb3C5V",
        "outputId": "7cafb917-6946-45d4-9e24-c6d5c7853ae6"
      },
      "outputs": [
        {
          "output_type": "stream",
          "name": "stdout",
          "text": [
            "[[0 0 0]\n",
            " [0 0 6]\n",
            " [7 8 9]] (3, 3)\n",
            "[[1]\n",
            " [2]\n",
            " [3]\n",
            " [4]\n",
            " [5]\n",
            " [6]\n",
            " [7]\n",
            " [8]\n",
            " [9]]\n",
            "[[[1 2 3]]\n",
            "\n",
            " [[4 5 6]]\n",
            "\n",
            " [[7 8 9]]]\n",
            "2 int64\n",
            "float32 6 4\n",
            "[ 1.   3.5  6.   8.5 11.  13.5 16.  18.5]\n",
            "[1.   1.25 1.5  1.75 2.  ]\n",
            "[1.00000000e+01 1.77827941e+02 3.16227766e+03 5.62341325e+04]\n",
            "[[0. 0. 0. 0. 0. 0.]\n",
            " [0. 0. 0. 0. 0. 0.]\n",
            " [0. 0. 0. 0. 0. 0.]\n",
            " [0. 0. 0. 0. 0. 0.]\n",
            " [0. 0. 0. 0. 0. 0.]]\n",
            "[[1. 1. 1.]\n",
            " [1. 1. 1.]\n",
            " [1. 1. 1.]]\n",
            "[[5 5 5 5]\n",
            " [5 5 5 5]\n",
            " [5 5 5 5]]\n",
            "[[1. 0. 0. 0. 0.]\n",
            " [0. 1. 0. 0. 0.]\n",
            " [0. 0. 1. 0. 0.]\n",
            " [0. 0. 0. 1. 0.]\n",
            " [0. 0. 0. 0. 1.]]\n",
            "[[0.33350978 0.91732805]\n",
            " [0.76218628 0.70706026]\n",
            " [0.46805596 0.40917344]]\n"
          ]
        }
      ],
      "source": [
        "# Numpy\n",
        "import numpy as np\n",
        "x=np.array([[1,2,3],[4,5,6],[7,8,9]])\n",
        "print(np.where(x>5,x,0),x.shape)\n",
        "print(x.reshape(9,1))\n",
        "print(x[:,np.newaxis])\n",
        "print(x.ndim,x.dtype)\n",
        "x=np.array([[1,2,3],[4,5,6]],dtype=np.float32)\n",
        "print(x.dtype,x.size,x.itemsize)\n",
        "print(np.arange(1,20,step=2.5))\n",
        "print(np.linspace(1,2,num=5))\n",
        "print(np.logspace(1,6,num=4,endpoint=False))\n",
        "print(np.zeros(shape=(5,6)))\n",
        "print(np.ones(shape=(3,3)))\n",
        "print(np.full((3,4),5))\n",
        "print(np.eye(5))\n",
        "print(np.random.rand(3,2))"
      ]
    },
    {
      "cell_type": "code",
      "source": [
        "import matplotlib.pyplot as plt\n",
        "%matplotlib inline\n",
        "import numpy as np"
      ],
      "metadata": {
        "id": "atQ-HtW63qmd"
      },
      "execution_count": null,
      "outputs": []
    },
    {
      "cell_type": "code",
      "source": [
        " x=np.random.rand(100)"
      ],
      "metadata": {
        "id": "OzPQCFem8mgL"
      },
      "execution_count": null,
      "outputs": []
    },
    {
      "cell_type": "code",
      "source": [
        "plt.hist(x)\n",
        "plt.title(\"$N(\\mu=0, \\sigma^2=1)$\");"
      ],
      "metadata": {
        "colab": {
          "base_uri": "https://localhost:8080/",
          "height": 285
        },
        "id": "3bKjjU2m8voh",
        "outputId": "7d1de55b-f53a-4a40-bacb-48eae1e6ba7d"
      },
      "execution_count": null,
      "outputs": [
        {
          "output_type": "display_data",
          "data": {
            "image/png": "[encoded data removed]",
            "text/plain": [
              "<Figure size 432x288 with 1 Axes>"
            ]
          },
          "metadata": {
            "needs_background": "light"
          }
        }
      ]
    },
    {
      "cell_type": "code",
      "source": [
        "plt.hist(x,bins=50)\n",
        "plt.title(\"$N(\\mu=0, \\sigma^2=1)$\");"
      ],
      "metadata": {
        "colab": {
          "base_uri": "https://localhost:8080/",
          "height": 285
        },
        "id": "ttVQojgm_tYU",
        "outputId": "752f5daf-845e-4fb0-c253-cba83b378161"
      },
      "execution_count": null,
      "outputs": [
        {
          "output_type": "display_data",
          "data": {
            "image/png": "[encoded data removed]",
            "text/plain": [
              "<Figure size 432x288 with 1 Axes>"
            ]
          },
          "metadata": {
            "needs_background": "light"
          }
        }
      ]
    },
    {
      "cell_type": "code",
      "source": [
        "plt.figure(figsize=(12,3))\n",
        "plt.subplot(1,3,1)\n",
        "plt.hist(x)\n",
        "plt.xlim(-1,1)\n",
        "plt.subplot(1,3,2)\n",
        "x=np.random.uniform(0,1,(8,8))\n",
        "plt.contourf(x)\n",
        "plt.subplot(1,3,3)\n",
        "x=np.random.uniform(0,1,4)\n",
        "plt.pie(x)"
      ],
      "metadata": {
        "colab": {
          "base_uri": "https://localhost:8080/",
          "height": 350
        },
        "id": "XLJdUdCyADn7",
        "outputId": "fe6ceb5a-0ace-4ec4-acec-9a92579aaeaa"
      },
      "execution_count": null,
      "outputs": [
        {
          "output_type": "execute_result",
          "data": {
            "text/plain": [
              "([<matplotlib.patches.Wedge at 0x7f6db1781410>,\n",
              "  <matplotlib.patches.Wedge at 0x7f6db1781710>,\n",
              "  <matplotlib.patches.Wedge at 0x7f6db17817d0>,\n",
              "  <matplotlib.patches.Wedge at 0x7f6db1789350>],\n",
              " [Text(0.2972610926500012, 1.05907310550147, ''),\n",
              "  Text(-1.076808579235329, -0.2246848541517482, ''),\n",
              "  Text(-0.0761815309967233, -1.0973588174954423, ''),\n",
              "  Text(0.9385478857789977, -0.5736966673249667, '')])"
            ]
          },
          "metadata": {},
          "execution_count": 45
        },
        {
          "output_type": "display_data",
          "data": {
            "image/png": "[encoded data removed]",
            "text/plain": [
              "<Figure size 864x216 with 3 Axes>"
            ]
          },
          "metadata": {
            "needs_background": "light"
          }
        }
      ]
    },
    {
      "cell_type": "code",
      "source": [
        "# sklearn\n",
        "from sklearn.model_selection import train_test_split\n",
        "from sklearn.metrics import accuracy_score\n",
        "from sklearn.datasets import load_iris\n",
        "import numpy as np\n",
        "import matplotlib.pyplot as plt\n",
        "%matplotlib inline"
      ],
      "metadata": {
        "id": "7auWqsInC1Ro"
      },
      "execution_count": 1,
      "outputs": []
    },
    {
      "cell_type": "code",
      "source": [
        "iris=load_iris()\n",
        "X,y=iris.data,iris.target\n",
        "X_train,X_test,y_train,y_test=train_test_split(X,y,random_state=0,test_size=0.25)\n",
        "n_samples,n_features=iris.data.shape\n",
        "print(n_samples)\n",
        "print(n_features)"
      ],
      "metadata": {
        "id": "qKrtZov2uyOC",
        "colab": {
          "base_uri": "https://localhost:8080/"
        },
        "outputId": "dfa87187-4da5-47e5-9a5e-ed161649c050"
      },
      "execution_count": 9,
      "outputs": [
        {
          "output_type": "stream",
          "name": "stdout",
          "text": [
            "150\n",
            "4\n"
          ]
        }
      ]
    },
    {
      "cell_type": "code",
      "source": [
        "plt.figure(figsize=(12,3))\n",
        "plt.subplot(1,3,1)\n",
        "plt.hist(X_train,bins=50)\n",
        "plt.show()"
      ],
      "metadata": {
        "colab": {
          "base_uri": "https://localhost:8080/",
          "height": 211
        },
        "id": "iW5O1cRVvk4-",
        "outputId": "424c0dbc-a230-4a46-daf8-b6caf16ac113"
      },
      "execution_count": 7,
      "outputs": [
        {
          "output_type": "display_data",
          "data": {
            "image/png": "[encoded data removed]",
            "text/plain": [
              "<Figure size 864x216 with 1 Axes>"
            ]
          },
          "metadata": {
            "needs_background": "light"
          }
        }
      ]
    },
    {
      "cell_type": "code",
      "source": [
        "from sklearn.linear_model import LogisticRegression\n",
        "clf=LogisticRegression(solver=\"lbfgs\",max_iter=1000)\n",
        "clf.fit(X_train,y_train)\n",
        "y_pred=clf.predict(X_test)\n",
        "print(y_pred)\n",
        "print(clf.score(X_test,y_test))"
      ],
      "metadata": {
        "colab": {
          "base_uri": "https://localhost:8080/"
        },
        "id": "pGqXweZC26cq",
        "outputId": "c39e0b71-8ec9-42e8-b34e-46bc53b1607c"
      },
      "execution_count": 16,
      "outputs": [
        {
          "output_type": "stream",
          "name": "stdout",
          "text": [
            "[2 1 0 2 0 2 0 1 1 1 2 1 1 1 1 0 1 1 0 0 2 1 0 0 2 0 0 1 1 0 2 1 0 2 2 1 0\n",
            " 2]\n",
            "0.9736842105263158\n"
          ]
        }
      ]
    },
    {
      "cell_type": "code",
      "source": [
        "from sklearn.neighbors import KNeighborsClassifier\n",
        "clf=KNeighborsClassifier(n_neighbors=4).fit(X_train,y_train)\n",
        "y_pred=clf.predict(X_test)\n",
        "print(y_pred)\n",
        "print(clf.score(X_test,y_test))"
      ],
      "metadata": {
        "colab": {
          "base_uri": "https://localhost:8080/"
        },
        "id": "ffGdA_Ol5x3w",
        "outputId": "0db8b6b7-efbd-4176-f621-2eb8b6bb92a6"
      },
      "execution_count": 17,
      "outputs": [
        {
          "output_type": "stream",
          "name": "stdout",
          "text": [
            "[2 1 0 2 0 2 0 1 1 1 2 1 1 1 1 0 1 1 0 0 2 1 0 0 2 0 0 1 1 0 2 1 0 2 2 1 0\n",
            " 2]\n",
            "0.9736842105263158\n"
          ]
        }
      ]
    }
  ]
}