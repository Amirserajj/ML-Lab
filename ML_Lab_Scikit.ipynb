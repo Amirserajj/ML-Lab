{
  "nbformat": 4,
  "nbformat_minor": 0,
  "metadata": {
    "colab": {
      "name": "ML-Lab_Scikit.ipynb",
      "provenance": [],
      "collapsed_sections": [],
      "authorship_tag": "ABX9TyO6C3mS1PtFQVgzurtTPmLx",
      "include_colab_link": true
    },
    "kernelspec": {
      "name": "python3",
      "display_name": "Python 3"
    },
    "language_info": {
      "name": "python"
    }
  },
  "cells": [
    {
      "cell_type": "markdown",
      "metadata": {
        "id": "view-in-github",
        "colab_type": "text"
      },
      "source": [
        "<a href=\"https://colab.research.google.com/github/Amirserajj/ML-Lab/blob/main/ML_Lab_Scikit.ipynb\" target=\"_parent\"><img src=\"https://colab.research.google.com/assets/colab-badge.svg\" alt=\"Open In Colab\"/></a>"
      ]
    },
    {
      "cell_type": "code",
      "execution_count": 14,
      "metadata": {
        "id": "o4oRzY0aX-Uk"
      },
      "outputs": [],
      "source": [
        " from sklearn.datasets import load_iris\n",
        " import numpy as np\n",
        " import matplotlib.pyplot as plt\n",
        " %matplotlib inline\n",
        " plt.rcParams[\"figure.figsize\"]=(10,6)\n",
        " iris=load_iris()"
      ]
    },
    {
      "cell_type": "code",
      "source": [
        "print(iris.keys())\n",
        "print(iris.data.shape)"
      ],
      "metadata": {
        "colab": {
          "base_uri": "https://localhost:8080/"
        },
        "id": "sKNrqjhXcw6h",
        "outputId": "eb487672-3549-4824-b4d3-6235505e1f55"
      },
      "execution_count": 7,
      "outputs": [
        {
          "output_type": "stream",
          "name": "stdout",
          "text": [
            "dict_keys(['data', 'target', 'frame', 'target_names', 'DESCR', 'feature_names', 'filename', 'data_module'])\n",
            "(150, 4)\n"
          ]
        }
      ]
    },
    {
      "cell_type": "code",
      "source": [
        "n_samples,n_features=iris.data.shape\n",
        "print(\"number of samples: %d\" % n_samples)\n",
        "print(\"number of features: %d\" % n_features)"
      ],
      "metadata": {
        "colab": {
          "base_uri": "https://localhost:8080/"
        },
        "id": "f4A8GKRDdwIG",
        "outputId": "9745bb48-31a6-40c3-86d9-cbc439dfde40"
      },
      "execution_count": 8,
      "outputs": [
        {
          "output_type": "stream",
          "name": "stdout",
          "text": [
            "number of samples: 150\n",
            "number of features: 4\n"
          ]
        }
      ]
    },
    {
      "cell_type": "code",
      "source": [
        "print(np.unique(iris.target,return_counts=True)) #Different kinds of iris"
      ],
      "metadata": {
        "colab": {
          "base_uri": "https://localhost:8080/"
        },
        "id": "VN_1BsXDeOhj",
        "outputId": "1412961a-b049-4478-f2e5-ff0dc49a3279"
      },
      "execution_count": 10,
      "outputs": [
        {
          "output_type": "stream",
          "name": "stdout",
          "text": [
            "(array([0, 1, 2]), array([50, 50, 50]))\n"
          ]
        }
      ]
    },
    {
      "cell_type": "code",
      "source": [
        "x_index=3\n",
        "colors=[\"blue\",\"red\",\"green\"]\n",
        "\n",
        "for label,color in zip(range(len(iris.target_names)),colors):#[(0,blue)]\n",
        "  plt.hist(iris.data[iris.target==label,x_index],\n",
        "           label=iris.target_names[label],color=color)\n",
        "plt.xlabel(iris.feature_names[x_index])\n",
        "plt.legend(loc=\"upper right\")\n",
        "plt.show()"
      ],
      "metadata": {
        "colab": {
          "base_uri": "https://localhost:8080/",
          "height": 388
        },
        "id": "eF1xuO8ufIlm",
        "outputId": "757b937f-4001-4369-c626-726f7932b119"
      },
      "execution_count": 16,
      "outputs": [
        {
          "output_type": "display_data",
          "data": {
            "image/png": "[encoded data removed]",
            "text/plain": [
              "<Figure size 720x432 with 1 Axes>"
            ]
          },
          "metadata": {
            "needs_background": "light"
          }
        }
      ]
    },
    {
      "cell_type": "code",
      "source": [
        "x1_index=3\n",
        "x2_index=0\n",
        "colors=[\"blue\",\"red\",\"green\"]\n",
        "\n",
        "for label,color in zip(range(len(iris.target_names)),colors):#[(0,blue)]\n",
        "  plt.scatter(iris.data[iris.target==label,x1_index],\n",
        "           iris.data[iris.target==label,x2_index],\n",
        "           label=iris.target_names[label],\n",
        "           c=color)\n",
        "plt.xlabel(iris.feature_names[x1_index])\n",
        "plt.ylabel(iris.feature_names[x2_index])\n",
        "plt.legend(loc=\"upper left\")\n",
        "plt.show()"
      ],
      "metadata": {
        "colab": {
          "base_uri": "https://localhost:8080/",
          "height": 388
        },
        "id": "3xiVsao8iAlB",
        "outputId": "c70d344c-6179-41b1-e9f3-eb0095090dca"
      },
      "execution_count": 22,
      "outputs": [
        {
          "output_type": "display_data",
          "data": {
            "image/png": "[encoded data removed]",
            "text/plain": [
              "<Figure size 720x432 with 1 Axes>"
            ]
          },
          "metadata": {
            "needs_background": "light"
          }
        }
      ]
    },
    {
      "cell_type": "code",
      "source": [
        ""
      ],
      "metadata": {
        "id": "hKx9T-SZiv53"
      },
      "execution_count": null,
      "outputs": []
    }
  ]
}